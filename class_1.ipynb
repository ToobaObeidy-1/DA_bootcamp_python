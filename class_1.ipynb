{
  "nbformat": 4,
  "nbformat_minor": 0,
  "metadata": {
    "colab": {
      "provenance": [],
      "authorship_tag": "ABX9TyONa/OlM4IWE1RsZSoBJuhh",
      "include_colab_link": true
    },
    "kernelspec": {
      "name": "python3",
      "display_name": "Python 3"
    },
    "language_info": {
      "name": "python"
    }
  },
  "cells": [
    {
      "cell_type": "markdown",
      "metadata": {
        "id": "view-in-github",
        "colab_type": "text"
      },
      "source": [
        "<a href=\"https://colab.research.google.com/github/ToobaObeidy-1/DA_bootcamp_python/blob/main/class_1.ipynb\" target=\"_parent\"><img src=\"https://colab.research.google.com/assets/colab-badge.svg\" alt=\"Open In Colab\"/></a>"
      ]
    },
    {
      "cell_type": "code",
      "execution_count": null,
      "metadata": {
        "colab": {
          "base_uri": "https://localhost:8080/"
        },
        "id": "5do_aQUsSDXa",
        "outputId": "10cc1554-1f1b-4e8c-f1eb-1a8cdbbe1474"
      },
      "outputs": [
        {
          "output_type": "stream",
          "name": "stdout",
          "text": [
            "hello world\n"
          ]
        }
      ],
      "source": [
        "print(\"hello world\")"
      ]
    },
    {
      "cell_type": "code",
      "source": [
        "#modulo\n",
        "2%100"
      ],
      "metadata": {
        "colab": {
          "base_uri": "https://localhost:8080/"
        },
        "id": "HWmbzbm3UpyD",
        "outputId": "9d225926-4086-42ac-c8de-9eb916e9ee89"
      },
      "execution_count": null,
      "outputs": [
        {
          "output_type": "execute_result",
          "data": {
            "text/plain": [
              "2"
            ]
          },
          "metadata": {},
          "execution_count": 2
        }
      ]
    },
    {
      "cell_type": "code",
      "source": [
        "#a 2% increase in a 100 dollar, over the course of 2 years\n",
        "100*1.02**24"
      ],
      "metadata": {
        "colab": {
          "base_uri": "https://localhost:8080/"
        },
        "id": "_EylSCw_VMlO",
        "outputId": "31e16d9e-1705-496c-84ff-f4cf9848ee36"
      },
      "execution_count": null,
      "outputs": [
        {
          "output_type": "execute_result",
          "data": {
            "text/plain": [
              "160.84372494752262"
            ]
          },
          "metadata": {},
          "execution_count": 3
        }
      ]
    },
    {
      "cell_type": "code",
      "source": [
        "# a 100 dollar with a 10% tax return in an year\n",
        "out = 100*1.1**7\n",
        "print (out)"
      ],
      "metadata": {
        "colab": {
          "base_uri": "https://localhost:8080/"
        },
        "id": "8lxhMVXVV4EN",
        "outputId": "6e0a9326-fc6e-44f3-a4b7-5315a1904bfc"
      },
      "execution_count": null,
      "outputs": [
        {
          "output_type": "stream",
          "name": "stdout",
          "text": [
            "194.87171000000012\n"
          ]
        }
      ]
    },
    {
      "cell_type": "code",
      "source": [],
      "metadata": {
        "id": "gma8c9dHYwPc"
      },
      "execution_count": null,
      "outputs": []
    },
    {
      "cell_type": "code",
      "source": [
        "age = 33"
      ],
      "metadata": {
        "id": "cLgZQ5iqWtDh"
      },
      "execution_count": null,
      "outputs": []
    },
    {
      "cell_type": "code",
      "source": [
        "print(age)"
      ],
      "metadata": {
        "colab": {
          "base_uri": "https://localhost:8080/"
        },
        "id": "NTaTVeveYD77",
        "outputId": "2d86c4c3-95df-4b7d-d6e8-9fb21c17d607"
      },
      "execution_count": null,
      "outputs": [
        {
          "output_type": "stream",
          "name": "stdout",
          "text": [
            "33\n"
          ]
        }
      ]
    },
    {
      "cell_type": "code",
      "source": [
        "# Write age, height, name of a person and calculate his age in 10 years and show all variables via print\n",
        "name= (\"john\")\n",
        "age= 34\n",
        "height=123\n",
        "print(name, age,height)\n",
        "print(age+10)"
      ],
      "metadata": {
        "colab": {
          "base_uri": "https://localhost:8080/"
        },
        "id": "6uuNk_3GY149",
        "outputId": "9de43f17-9e2c-4a0a-9a9d-b5e0dd9408a5"
      },
      "execution_count": null,
      "outputs": [
        {
          "output_type": "stream",
          "name": "stdout",
          "text": [
            "john 34 123\n",
            "44\n"
          ]
        }
      ]
    },
    {
      "cell_type": "code",
      "source": [
        "name = (\"tooba\")\n",
        "age = 24"
      ],
      "metadata": {
        "id": "EHB3uOHCccMY"
      },
      "execution_count": null,
      "outputs": []
    },
    {
      "cell_type": "code",
      "source": [
        "type(age)"
      ],
      "metadata": {
        "colab": {
          "base_uri": "https://localhost:8080/"
        },
        "id": "LHensexsck5Q",
        "outputId": "1d7c4033-a913-4ad8-ce59-7d14eaeda378"
      },
      "execution_count": null,
      "outputs": [
        {
          "output_type": "execute_result",
          "data": {
            "text/plain": [
              "int"
            ]
          },
          "metadata": {},
          "execution_count": 17
        }
      ]
    },
    {
      "cell_type": "code",
      "source": [
        "x = (\"oranges \")\n",
        "y = (\"apples\")\n",
        "print(x + y)"
      ],
      "metadata": {
        "colab": {
          "base_uri": "https://localhost:8080/"
        },
        "id": "j03wH-ZfcyNs",
        "outputId": "2b1edb49-8217-4e37-9da8-5705ce40e76f"
      },
      "execution_count": null,
      "outputs": [
        {
          "output_type": "stream",
          "name": "stdout",
          "text": [
            "oranges apples\n"
          ]
        }
      ]
    },
    {
      "cell_type": "code",
      "source": [
        "result = 100\n",
        "savings = 30\n",
        "print(f\"i have achieved $\" + str(result) + \" and i have saved $\" + str(savings))"
      ],
      "metadata": {
        "colab": {
          "base_uri": "https://localhost:8080/"
        },
        "id": "pU_Q1QU5fne9",
        "outputId": "794b4105-1377-4959-b534-9f2d780a97f9"
      },
      "execution_count": null,
      "outputs": [
        {
          "output_type": "stream",
          "name": "stdout",
          "text": [
            "i have achieved $100 and i have saved $30\n"
          ]
        }
      ]
    },
    {
      "cell_type": "code",
      "source": [
        "growth_null = 1.1\n",
        "money = 100\n",
        "result = money * growth_null ** 7\n",
        "print(result)"
      ],
      "metadata": {
        "id": "_44w3rtdHX2c",
        "outputId": "4c7bdeb6-08bb-4f31-abd3-2804e3ab4c71",
        "colab": {
          "base_uri": "https://localhost:8080/"
        }
      },
      "execution_count": 1,
      "outputs": [
        {
          "output_type": "stream",
          "name": "stdout",
          "text": [
            "194.87171000000012\n"
          ]
        }
      ]
    },
    {
      "cell_type": "code",
      "source": [
        "desc = \"compound interest\"\n",
        "print(desc)"
      ],
      "metadata": {
        "id": "i9MSl90QIP71",
        "outputId": "30195cf5-fbe0-4ffc-f99f-af0a953c095a",
        "colab": {
          "base_uri": "https://localhost:8080/"
        }
      },
      "execution_count": 2,
      "outputs": [
        {
          "output_type": "stream",
          "name": "stdout",
          "text": [
            "compound interest\n"
          ]
        }
      ]
    },
    {
      "cell_type": "code",
      "source": [
        "name = \"Tooba\"\n",
        "age = 33\n",
        "height = 154.94\n",
        "print()"
      ],
      "metadata": {
        "id": "OG7gUryjIYAk",
        "outputId": "39b025a7-2008-4d62-8188-9ea8dce5006e",
        "colab": {
          "base_uri": "https://localhost:8080/",
          "height": 176
        }
      },
      "execution_count": 7,
      "outputs": [
        {
          "output_type": "error",
          "ename": "TypeError",
          "evalue": "can only concatenate str (not \"set\") to str",
          "traceback": [
            "\u001b[0;31m---------------------------------------------------------------------------\u001b[0m",
            "\u001b[0;31mTypeError\u001b[0m                                 Traceback (most recent call last)",
            "\u001b[0;32m<ipython-input-7-5d0bd9b94eac>\u001b[0m in \u001b[0;36m<cell line: 4>\u001b[0;34m()\u001b[0m\n\u001b[1;32m      2\u001b[0m \u001b[0mage\u001b[0m \u001b[0;34m=\u001b[0m \u001b[0;36m33\u001b[0m\u001b[0;34m\u001b[0m\u001b[0;34m\u001b[0m\u001b[0m\n\u001b[1;32m      3\u001b[0m \u001b[0mheight\u001b[0m \u001b[0;34m=\u001b[0m \u001b[0;36m154.94\u001b[0m\u001b[0;34m\u001b[0m\u001b[0;34m\u001b[0m\u001b[0m\n\u001b[0;32m----> 4\u001b[0;31m \u001b[0mprint\u001b[0m\u001b[0;34m(\u001b[0m\u001b[0;34mf\"my name is\"\u001b[0m \u001b[0;34m+\u001b[0m \u001b[0;34m{\u001b[0m\u001b[0mname\u001b[0m\u001b[0;34m}\u001b[0m \u001b[0;34m+\u001b[0m \u001b[0;34m\"my age is\"\u001b[0m \u001b[0;34m+\u001b[0m \u001b[0;34m{\u001b[0m\u001b[0mage\u001b[0m\u001b[0;34m}\u001b[0m \u001b[0;34m+\u001b[0m \u001b[0;34m\"my height is\"\u001b[0m \u001b[0;34m+\u001b[0m \u001b[0;34m{\u001b[0m\u001b[0mheight\u001b[0m\u001b[0;34m}\u001b[0m\u001b[0;34m)\u001b[0m\u001b[0;34m\u001b[0m\u001b[0;34m\u001b[0m\u001b[0m\n\u001b[0m",
            "\u001b[0;31mTypeError\u001b[0m: can only concatenate str (not \"set\") to str"
          ]
        }
      ]
    },
    {
      "cell_type": "code",
      "source": [
        "a = \"Tooba\"\n",
        "b = \"female\"\n",
        "c = \"33\"\n",
        "d = \"159.9 cm\"\n",
        "new_list=[a,b,c,d]\n",
        "print(a,b,c,d)"
      ],
      "metadata": {
        "id": "YS2NqUcDJx2m",
        "outputId": "844e1923-2424-4632-e277-727b0c4e593e",
        "colab": {
          "base_uri": "https://localhost:8080/"
        }
      },
      "execution_count": 9,
      "outputs": [
        {
          "output_type": "stream",
          "name": "stdout",
          "text": [
            "Tooba female 33 159.9 cm\n"
          ]
        }
      ]
    },
    {
      "cell_type": "code",
      "source": [
        "cities = [\"karachi, lahore, islamabad, peshawar, quetta, faislabad\"]\n",
        "print(cities)"
      ],
      "metadata": {
        "id": "JD2zx6MaKPBM"
      },
      "execution_count": null,
      "outputs": []
    },
    {
      "cell_type": "code",
      "source": [
        "a = \"karachi\"\n",
        "b = \"31 degrees\"\n",
        "c = 3780\n",
        "d = True\n",
        "city_info = [a,b,c,d]\n",
        "print(city_info)"
      ],
      "metadata": {
        "id": "nWHeSkM2LEEX",
        "outputId": "e96f1c8d-1d7c-4f45-f5a5-6002489df85a",
        "colab": {
          "base_uri": "https://localhost:8080/"
        }
      },
      "execution_count": 10,
      "outputs": [
        {
          "output_type": "stream",
          "name": "stdout",
          "text": [
            "['karachi', '31 degrees', 3780, True]\n"
          ]
        }
      ]
    },
    {
      "cell_type": "markdown",
      "source": [
        "list of lists, where you can put different lists in one list variable"
      ],
      "metadata": {
        "id": "1pbPYxetMcxa"
      }
    },
    {
      "cell_type": "code",
      "source": [
        "cities = [[\"khi\", \"hyd\", \"suk\"],[\"lah\"]]"
      ],
      "metadata": {
        "id": "WtEmm-szMgDS"
      },
      "execution_count": null,
      "outputs": []
    },
    {
      "cell_type": "markdown",
      "source": [
        "**slicing and dicing**"
      ],
      "metadata": {
        "id": "FxDkL-A8QTIn"
      }
    },
    {
      "cell_type": "code",
      "source": [
        "h_p = [\"I\", \"am\", \"lord\", \"Voldemort\"]\n",
        "print(h_p[1])"
      ],
      "metadata": {
        "id": "WGOlWh9YQSFG",
        "outputId": "2bb1105d-115c-4af2-d415-f6791381a31d",
        "colab": {
          "base_uri": "https://localhost:8080/"
        }
      },
      "execution_count": 26,
      "outputs": [
        {
          "output_type": "stream",
          "name": "stdout",
          "text": [
            "am\n"
          ]
        }
      ]
    },
    {
      "cell_type": "code",
      "source": [
        "del h_p[1]"
      ],
      "metadata": {
        "id": "0LToy2PFVIW2"
      },
      "execution_count": 27,
      "outputs": []
    },
    {
      "cell_type": "code",
      "source": [
        "print(h_p)"
      ],
      "metadata": {
        "id": "1z8SrzQPZIl0",
        "outputId": "858add04-4550-494c-8354-785620075cf3",
        "colab": {
          "base_uri": "https://localhost:8080/"
        }
      },
      "execution_count": 28,
      "outputs": [
        {
          "output_type": "stream",
          "name": "stdout",
          "text": [
            "['I', 'lord', 'Voldemort']\n"
          ]
        }
      ]
    },
    {
      "cell_type": "code",
      "source": [
        "var2 = [h_p[10:]]\n",
        "var1 = [h_p[:10]]\n",
        "print(var1)\n",
        "print(var2)"
      ],
      "metadata": {
        "id": "CXiDC-OfTx0a",
        "outputId": "9c443777-f55b-4089-8c44-38d9f0fc0262",
        "colab": {
          "base_uri": "https://localhost:8080/"
        }
      },
      "execution_count": 17,
      "outputs": [
        {
          "output_type": "stream",
          "name": "stdout",
          "text": [
            "['I am lord ']\n",
            "['Voldemort']\n"
          ]
        }
      ]
    },
    {
      "cell_type": "code",
      "source": [
        "print(var1 + var2)"
      ],
      "metadata": {
        "id": "pQo0_cTNTxgh",
        "outputId": "05f2fe46-5749-4299-af69-3c58f74368fe",
        "colab": {
          "base_uri": "https://localhost:8080/"
        }
      },
      "execution_count": 18,
      "outputs": [
        {
          "output_type": "stream",
          "name": "stdout",
          "text": [
            "['I am lord ', 'Voldemort']\n"
          ]
        }
      ]
    },
    {
      "cell_type": "code",
      "source": [
        "print(h_p[-4])\n",
        "print(h_p[-3])"
      ],
      "metadata": {
        "id": "Y1UdHgjVUJlr",
        "outputId": "b69e9c06-b545-4cc9-9dda-b8dc1407764d",
        "colab": {
          "base_uri": "https://localhost:8080/"
        }
      },
      "execution_count": 20,
      "outputs": [
        {
          "output_type": "stream",
          "name": "stdout",
          "text": [
            "m\n",
            "o\n"
          ]
        }
      ]
    },
    {
      "cell_type": "markdown",
      "source": [
        "list in list\n"
      ],
      "metadata": {
        "id": "I9GJrv02UtSK"
      }
    },
    {
      "cell_type": "code",
      "source": [
        "cities_list = [[\"khi\", \"isb\", \"lah\"], [\"ban\", \"del\", \"mum\"], [\"dha\", \"cha\", \"gha\"]]\n",
        "print(cities_list)"
      ],
      "metadata": {
        "id": "EG36h7s1VAx0",
        "outputId": "a70a5b2a-bdf6-4690-b92d-ed905897ad56",
        "colab": {
          "base_uri": "https://localhost:8080/"
        }
      },
      "execution_count": 22,
      "outputs": [
        {
          "output_type": "stream",
          "name": "stdout",
          "text": [
            "[['khi', 'isb', 'lah'], ['ban', 'del', 'mum'], ['dha', 'cha', 'gha']]\n"
          ]
        }
      ]
    },
    {
      "cell_type": "code",
      "source": [
        "#proper way to answer\n",
        "pak_cities = [\"Karachi\", \"Islamabad\", \"Rawalpindi\"]\n",
        "ind_cities = [\"Delhi\", \"Gujrat\", \"Lucknow\"]\n",
        "ban_cities = [\"Dhaka\",\"Chittagong\", \"Khulna\"]\n",
        "combine_cities = [pak_cities,ind_cities,ban_cities]\n",
        "print(combine_cities)"
      ],
      "metadata": {
        "id": "M2xqtO0-Wlji",
        "outputId": "b7dffef5-71c7-4383-a091-9c11e014d059",
        "colab": {
          "base_uri": "https://localhost:8080/"
        }
      },
      "execution_count": 23,
      "outputs": [
        {
          "output_type": "stream",
          "name": "stdout",
          "text": [
            "[['Karachi', 'Islamabad', 'Rawalpindi'], ['Delhi', 'Gujrat', 'Lucknow'], ['Dhaka', 'Chittagong', 'Khulna']]\n"
          ]
        }
      ]
    },
    {
      "cell_type": "code",
      "source": [
        "del(combine_cities[1][1])"
      ],
      "metadata": {
        "id": "0-qDg7zTaQzG"
      },
      "execution_count": 29,
      "outputs": []
    },
    {
      "cell_type": "code",
      "source": [
        "print(combine_cities)"
      ],
      "metadata": {
        "id": "EUBSb6I1aXLv",
        "outputId": "bb36420e-2541-470c-e937-6cbebb0bd3c1",
        "colab": {
          "base_uri": "https://localhost:8080/"
        }
      },
      "execution_count": 30,
      "outputs": [
        {
          "output_type": "stream",
          "name": "stdout",
          "text": [
            "[['Karachi', 'Islamabad', 'Rawalpindi'], ['Delhi', 'Lucknow'], ['Dhaka', 'Chittagong', 'Khulna']]\n"
          ]
        }
      ]
    }
  ]
}